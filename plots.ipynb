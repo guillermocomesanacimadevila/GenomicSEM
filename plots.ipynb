{
 "cells": [
  {
   "cell_type": "code",
   "id": "initial_id",
   "metadata": {
    "collapsed": true,
    "ExecuteTime": {
     "end_time": "2025-10-15T17:59:03.939944Z",
     "start_time": "2025-10-15T17:59:03.936615Z"
    }
   },
   "source": [
    "import pandas as pd\n",
    "import numpy as np\n",
    "from scipy.stats import norm"
   ],
   "outputs": [],
   "execution_count": 63
  },
  {
   "metadata": {
    "ExecuteTime": {
     "end_time": "2025-10-15T17:40:13.806456Z",
     "start_time": "2025-10-15T17:40:13.798640Z"
    }
   },
   "cell_type": "code",
   "source": "df = pd.read_csv(\"/Users/guillermocomesanacimadevila/Desktop/PhD/GenomicSEM/Part1/Checks/HDLL_per_block/local_rg_per_block.tsv\",sep=\"\\t\")",
   "id": "7a818e7efa83a8b9",
   "outputs": [],
   "execution_count": 40
  },
  {
   "metadata": {
    "ExecuteTime": {
     "end_time": "2025-10-15T17:46:14.269302Z",
     "start_time": "2025-10-15T17:46:14.266960Z"
    }
   },
   "cell_type": "code",
   "source": [
    "df.columns\n",
    "df[[\"Heritability_1\", \"Heritability_2\"]] = df[[\"Heritability_1\", \"Heritability_2\"]].apply(pd.to_numeric, errors='coerce')"
   ],
   "id": "ad67b1f2dfa3af33",
   "outputs": [],
   "execution_count": 47
  },
  {
   "metadata": {
    "ExecuteTime": {
     "end_time": "2025-10-15T17:47:30.632073Z",
     "start_time": "2025-10-15T17:47:30.629372Z"
    }
   },
   "cell_type": "code",
   "source": [
    "print(f\"SZ h2 = {df[\"Heritability_1\"].sum()}\")\n",
    "print(f\"AD h2 = {df[\"Heritability_2\"].sum()}\")\n",
    "print(f\"Covg = {df[\"Genetic_Covariance\"].sum()}\")\n",
    "rg_global = df[\"Genetic_Covariance\"].sum() / np.sqrt(\n",
    "    df[\"Heritability_1\"].sum() * df[\"Heritability_2\"].sum()\n",
    ")\n",
    "print(f\"rg = {rg_global}\")\n",
    "\n",
    "# SZ h2 = 0.19047911746545068\n",
    "# AD h2 = 0.3440573496199979"
   ],
   "id": "d506dd87f6587a2",
   "outputs": [
    {
     "name": "stdout",
     "output_type": "stream",
     "text": [
      "SZ h2 = 0.19047911746545068\n",
      "AD h2 = 0.3440573496199979\n",
      "Covg = 0.004377972766161657\n",
      "rg = 0.01710149000024233\n"
     ]
    }
   ],
   "execution_count": 50
  },
  {
   "metadata": {
    "ExecuteTime": {
     "end_time": "2025-10-15T17:54:19.609523Z",
     "start_time": "2025-10-15T17:54:19.604454Z"
    }
   },
   "cell_type": "code",
   "source": "df = df.replace([np.inf, -np.inf], np.nan)",
   "id": "5bf295420f705b97",
   "outputs": [],
   "execution_count": 57
  },
  {
   "metadata": {
    "ExecuteTime": {
     "end_time": "2025-10-15T17:54:20.620401Z",
     "start_time": "2025-10-15T17:54:20.615832Z"
    }
   },
   "cell_type": "code",
   "source": [
    "h2_scz = np.clip(df[\"Heritability_1\"].to_numpy(dtype=float), 0, None).sum()\n",
    "h2_ad  = np.clip(df[\"Heritability_2\"].to_numpy(dtype=float), 0, None).sum()\n",
    "gcov   = df[\"Genetic_Covariance\"].fillna(0.0).to_numpy(dtype=float).sum()\n",
    "\n",
    "rg_global = gcov / np.sqrt(h2_scz * h2_ad)\n",
    "print(f\"SCZ h² = {h2_scz:.4f} ({h2_scz*100:.2f}%)\")\n",
    "print(f\"AD  h² = {h2_ad:.4f} ({h2_ad*100:.2f}%)\")\n",
    "print(f\"Cov_g = {gcov:.6f}\")\n",
    "print(f\"r_g   = {rg_global:.3f}\")"
   ],
   "id": "1167081d5e94e74c",
   "outputs": [
    {
     "name": "stdout",
     "output_type": "stream",
     "text": [
      "SCZ h² = 0.1905 (19.05%)\n",
      "AD  h² = 0.3441 (34.41%)\n",
      "Cov_g = 0.004378\n",
      "r_g   = 0.017\n"
     ]
    }
   ],
   "execution_count": 58
  },
  {
   "metadata": {
    "ExecuteTime": {
     "end_time": "2025-10-15T18:14:49.394572Z",
     "start_time": "2025-10-15T18:14:49.386912Z"
    }
   },
   "cell_type": "code",
   "source": "print(df.columns)",
   "id": "273d0ab694595191",
   "outputs": [
    {
     "name": "stdout",
     "output_type": "stream",
     "text": [
      "Index(['CHR', 'piece', 'Trait1', 'Trait2', 'eigen_use', 'Heritability_1',\n",
      "       'P_value_Heritability_1', 'Heritability_2', 'P_value_Heritability_2',\n",
      "       'Genetic_Covariance', 'Genetic_Correlation', 'Lower_bound_rg',\n",
      "       'Upper_bound_rg', 'P', 'n_ref', 'cov_scz', 'cov_ad', 'bp_min', 'bp_max',\n",
      "       'local_rg'],\n",
      "      dtype='object')\n"
     ]
    }
   ],
   "execution_count": 65
  },
  {
   "metadata": {
    "ExecuteTime": {
     "end_time": "2025-10-15T18:16:51.773797Z",
     "start_time": "2025-10-15T18:16:51.769529Z"
    }
   },
   "cell_type": "code",
   "source": "len([i for i in df[\"Genetic_Correlation\"] if i == 0 or pd.isna(i)])",
   "id": "8c38b8249aa7f92f",
   "outputs": [
    {
     "data": {
      "text/plain": [
       "1669"
      ]
     },
     "execution_count": 71,
     "metadata": {},
     "output_type": "execute_result"
    }
   ],
   "execution_count": 71
  },
  {
   "metadata": {
    "ExecuteTime": {
     "end_time": "2025-10-15T18:17:12.537943Z",
     "start_time": "2025-10-15T18:17:12.534368Z"
    }
   },
   "cell_type": "code",
   "source": "len(df[\"Genetic_Correlation\"].tolist())",
   "id": "e16fa87827028e6d",
   "outputs": [
    {
     "data": {
      "text/plain": [
       "2459"
      ]
     },
     "execution_count": 74,
     "metadata": {},
     "output_type": "execute_result"
    }
   ],
   "execution_count": 74
  },
  {
   "metadata": {
    "ExecuteTime": {
     "end_time": "2025-10-15T18:19:11.469778Z",
     "start_time": "2025-10-15T18:19:11.456592Z"
    }
   },
   "cell_type": "code",
   "source": [
    "num_cols = [\"Heritability_1\", \"Heritability_2\", \"Genetic_Covariance\"]\n",
    "for c in num_cols:\n",
    "    df[c] = pd.to_numeric(df[c], errors=\"coerce\")\n",
    "df = df.replace([np.inf, -np.inf], np.nan)\n",
    "\n",
    "h2_scz_raw = np.nan_to_num(df[\"Heritability_1\"].to_numpy(float), nan=0.0).sum()\n",
    "h2_ad_raw  = np.nan_to_num(df[\"Heritability_2\"].to_numpy(float), nan=0.0).sum()\n",
    "gcov_raw   = np.nan_to_num(df[\"Genetic_Covariance\"].to_numpy(float), nan=0.0).sum()\n",
    "\n",
    "print(f\"[RAW] SCZ h² = {h2_scz_raw:.6f}\")\n",
    "print(f\"[RAW]  AD h² = {h2_ad_raw:.6f}\")\n",
    "print(f\"[RAW] Cov_g  = {gcov_raw:.6f}\")\n",
    "\n",
    "for label, col in [(\"SCZ\", \"Heritability_1\"), (\"AD\", \"Heritability_2\")]:\n",
    "    x = df[col].dropna()\n",
    "    n_neg = (x < 0).sum()\n",
    "    sum_neg = x[x < 0].sum()\n",
    "    p99 = x.quantile(0.99)\n",
    "    p997 = x.quantile(0.997)\n",
    "    top5 = x.nlargest(5).values\n",
    "    print(f\"{label}: n_blocks={x.size}, negatives={n_neg} (sum={sum_neg:.6f}), \"\n",
    "          f\"p99={p99:.6g}, p99.7={p997:.6g}, top5={np.array2string(top5, precision=6)}\")\n",
    "\n",
    "def winsorize(s, q=0.999):\n",
    "    cap = s.quantile(q)\n",
    "    return np.where(s.notna(), np.minimum(s, cap), np.nan)\n",
    "\n",
    "df[\"h2_scz_w\"] = winsorize(df[\"Heritability_1\"], q=0.999)\n",
    "df[\"h2_ad_w\"]  = winsorize(df[\"Heritability_2\"],  q=0.999)\n",
    "\n",
    "h2_scz_win = np.nan_to_num(df[\"h2_scz_w\"], nan=0.0).sum()\n",
    "h2_ad_win  = np.nan_to_num(df[\"h2_ad_w\"],  nan=0.0).sum()\n",
    "\n",
    "rg = gcov_raw / np.sqrt(max(h2_scz_raw, 0) * max(h2_ad_raw, 0)) if h2_scz_raw>0 and h2_ad_raw>0 else np.nan\n",
    "\n",
    "print(f\"[WINSORIZED] SCZ h² = {h2_scz_win:.6f}\")\n",
    "print(f\"[WINSORIZED]  AD h² = {h2_ad_win:.6f}\")\n",
    "print(f\"r_g (from raw sums) = {rg:.6f}\")"
   ],
   "id": "24744aa0910e8d1",
   "outputs": [
    {
     "name": "stdout",
     "output_type": "stream",
     "text": [
      "[RAW] SCZ h² = 0.190479\n",
      "[RAW]  AD h² = 0.344057\n",
      "[RAW] Cov_g  = 0.004378\n",
      "SCZ: n_blocks=2459, negatives=0 (sum=0.000000), p99=0.000515654, p99.7=0.000726644, top5=[0.0015   0.000944 0.000845 0.000833 0.000812]\n",
      "AD: n_blocks=2459, negatives=0 (sum=0.000000), p99=0.00021289, p99.7=0.000308157, top5=[0.282728 0.001114 0.000692 0.000685 0.000389]\n",
      "[WINSORIZED] SCZ h² = 0.189709\n",
      "[WINSORIZED]  AD h² = 0.061590\n",
      "r_g (from raw sums) = 0.017101\n"
     ]
    }
   ],
   "execution_count": 77
  },
  {
   "metadata": {},
   "cell_type": "code",
   "outputs": [],
   "execution_count": null,
   "source": "",
   "id": "3fa81edb3ed75ae5"
  }
 ],
 "metadata": {
  "kernelspec": {
   "display_name": "Python 3",
   "language": "python",
   "name": "python3"
  },
  "language_info": {
   "codemirror_mode": {
    "name": "ipython",
    "version": 2
   },
   "file_extension": ".py",
   "mimetype": "text/x-python",
   "name": "python",
   "nbconvert_exporter": "python",
   "pygments_lexer": "ipython2",
   "version": "2.7.6"
  }
 },
 "nbformat": 4,
 "nbformat_minor": 5
}
